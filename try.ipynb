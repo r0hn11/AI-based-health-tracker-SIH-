{
 "cells": [
  {
   "cell_type": "code",
   "execution_count": 2,
   "metadata": {},
   "outputs": [
    {
     "data": {
      "text/html": [
       "<div>\n",
       "<style scoped>\n",
       "    .dataframe tbody tr th:only-of-type {\n",
       "        vertical-align: middle;\n",
       "    }\n",
       "\n",
       "    .dataframe tbody tr th {\n",
       "        vertical-align: top;\n",
       "    }\n",
       "\n",
       "    .dataframe thead th {\n",
       "        text-align: right;\n",
       "    }\n",
       "</style>\n",
       "<table border=\"1\" class=\"dataframe\">\n",
       "  <thead>\n",
       "    <tr style=\"text-align: right;\">\n",
       "      <th></th>\n",
       "      <th>Name</th>\n",
       "      <th>Time</th>\n",
       "    </tr>\n",
       "  </thead>\n",
       "  <tbody>\n",
       "    <tr>\n",
       "      <th>0</th>\n",
       "      <td>SAUHARD</td>\n",
       "      <td>16:33:02</td>\n",
       "    </tr>\n",
       "    <tr>\n",
       "      <th>1</th>\n",
       "      <td>PRATHAMESH</td>\n",
       "      <td>16:33:11</td>\n",
       "    </tr>\n",
       "    <tr>\n",
       "      <th>2</th>\n",
       "      <td>PRATHAMESH</td>\n",
       "      <td>16:33:34</td>\n",
       "    </tr>\n",
       "    <tr>\n",
       "      <th>3</th>\n",
       "      <td>SAUHARD</td>\n",
       "      <td>16:33:41</td>\n",
       "    </tr>\n",
       "    <tr>\n",
       "      <th>4</th>\n",
       "      <td>PRATHAMESH</td>\n",
       "      <td>16:34:09</td>\n",
       "    </tr>\n",
       "  </tbody>\n",
       "</table>\n",
       "</div>"
      ],
      "text/plain": [
       "         Name      Time\n",
       "0     SAUHARD  16:33:02\n",
       "1  PRATHAMESH  16:33:11\n",
       "2  PRATHAMESH  16:33:34\n",
       "3     SAUHARD  16:33:41\n",
       "4  PRATHAMESH  16:34:09"
      ]
     },
     "execution_count": 2,
     "metadata": {},
     "output_type": "execute_result"
    }
   ],
   "source": [
    "import pandas as pd\n",
    "df = pd.read_csv('Attendance.csv')\n",
    "df.head()"
   ]
  },
  {
   "cell_type": "code",
   "execution_count": 3,
   "metadata": {},
   "outputs": [
    {
     "data": {
      "text/plain": [
       "0        SAUHARD\n",
       "1     PRATHAMESH\n",
       "2     PRATHAMESH\n",
       "3        SAUHARD\n",
       "4     PRATHAMESH\n",
       "5        SAUHARD\n",
       "6     PRATHAMESH\n",
       "7     PRATHAMESH\n",
       "8     PRATHAMESH\n",
       "9     PRATHAMESH\n",
       "10    PRATHAMESH\n",
       "11    PRATHAMESH\n",
       "12    PRATHAMESH\n",
       "13       SAUHARD\n",
       "14    PRATHAMESH\n",
       "15    PRATHAMESH\n",
       "16         ROHAN\n",
       "17    PRATHAMESH\n",
       "18       SAUHARD\n",
       "19         ROHAN\n",
       "20    PRATHAMESH\n",
       "Name: Name, dtype: object"
      ]
     },
     "execution_count": 3,
     "metadata": {},
     "output_type": "execute_result"
    }
   ],
   "source": [
    "df.Name"
   ]
  },
  {
   "cell_type": "code",
   "execution_count": 5,
   "metadata": {},
   "outputs": [
    {
     "data": {
      "text/plain": [
       "['16:33:02',\n",
       " '16:33:11',\n",
       " '16:33:34',\n",
       " '16:33:41',\n",
       " '16:34:09',\n",
       " '16:34:14',\n",
       " '16:35:55',\n",
       " '16:36:38',\n",
       " '16:40:04',\n",
       " '16:40:34',\n",
       " '16:41:52',\n",
       " '16:42:15',\n",
       " '16:46:18',\n",
       " '16:46:24',\n",
       " '16:47:53',\n",
       " '17:07:46',\n",
       " '17:07:48',\n",
       " '17:09:49',\n",
       " '17:09:57',\n",
       " '17:10:05',\n",
       " '17:11:13']"
      ]
     },
     "execution_count": 5,
     "metadata": {},
     "output_type": "execute_result"
    }
   ],
   "source": [
    "list(df.Name)\n",
    "list(df.Time)"
   ]
  },
  {
   "cell_type": "code",
   "execution_count": null,
   "metadata": {},
   "outputs": [],
   "source": []
  }
 ],
 "metadata": {
  "interpreter": {
   "hash": "1ce171dc70452454c3bffa4117cd314c58b6815e9f86ccbf7bccf75b21c3564b"
  },
  "kernelspec": {
   "display_name": "Python 3.10.0 ('sih')",
   "language": "python",
   "name": "python3"
  },
  "language_info": {
   "codemirror_mode": {
    "name": "ipython",
    "version": 3
   },
   "file_extension": ".py",
   "mimetype": "text/x-python",
   "name": "python",
   "nbconvert_exporter": "python",
   "pygments_lexer": "ipython3",
   "version": "3.10.0"
  },
  "orig_nbformat": 4
 },
 "nbformat": 4,
 "nbformat_minor": 2
}
