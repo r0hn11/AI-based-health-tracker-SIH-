{
 "cells": [
  {
   "cell_type": "code",
   "execution_count": 66,
   "metadata": {},
   "outputs": [],
   "source": [
    "import csv\n",
    "import numpy as np\n",
    "import cv2\n",
    "import os\n",
    "os.chdir(\"d:\\\\codes\\\\college\\\\SIH\\\\final\\\\flask\")\n",
    "from application.calculations.calorie_calc import getCalorie, getVolume\n",
    "from application.calculations.create_feature import readFeatureImg\n",
    "\n",
    "\n",
    "svm_model = cv2.ml.SVM_load(\"svm_data.dat\")\n",
    "feature_mat = []\n",
    "response = []\n",
    "image_names = \"\"\n",
    "pix_cm = 0\n",
    "fruit_contours = \"\"\n",
    "fruit_areas = 0.0\n",
    "fruit_volumes = 0.0\n",
    "fruit_mass = 0.0\n",
    "fruit_calories = 0\n",
    "skin_areas = 0.0\n",
    "fruit_calories_100grams = 0"
   ]
  },
  {
   "cell_type": "code",
   "execution_count": 73,
   "metadata": {},
   "outputs": [
    {
     "name": "stdout",
     "output_type": "stream",
     "text": [
      "application/uploads/overriden.jpg\n",
      "<class 'float'>\n",
      "(1, 94)\n"
     ]
    }
   ],
   "source": [
    "img_path = \"application/uploads/overriden.jpg\"\n",
    "print(img_path)\n",
    "fea, farea, skinarea, fcont, pix_to_cm = readFeatureImg(img_path)\n",
    "pix_cm =  pix_to_cm\n",
    "fruit_contours = fcont\n",
    "print(type(pix_to_cm))\n",
    "fruit_areas = farea\n",
    "feature_mat = fea\n",
    "skin_areas = skinarea\n",
    "# response.append([float(1)])\n",
    "image_names = img_path\n",
    "\n",
    "testData = np.float32(feature_mat).reshape(-1, 94)\n",
    "# responses = np.float32(response)\n",
    "print(testData.shape)"
   ]
  },
  {
   "cell_type": "code",
   "execution_count": 63,
   "metadata": {},
   "outputs": [
    {
     "name": "stdout",
     "output_type": "stream",
     "text": [
      "[[1.]]\n",
      "1\n",
      "123.21428571428571 6.262613293340996 1028.857898191735 5124.0\n",
      "52\n"
     ]
    }
   ],
   "source": [
    "result = svm_model.predict(testData)[1]\n",
    "# result = svm_model.predict_all(testData)\n",
    "# mask = result == responses\n",
    "print(result)\n",
    "print(len(result))\n",
    "# calculate calories\n",
    "volume = getVolume(result[0], fruit_areas,\n",
    "                    skin_areas, pix_cm, fruit_contours)\n",
    "mass, cal, cal_100 = getCalorie(result[0], volume)\n",
    "fruit_volumes = volume\n",
    "fruit_calories = cal\n",
    "fruit_calories_100grams = cal_100\n",
    "fruit_mass = mass\n",
    "\n",
    "print(fruit_calories_100grams)"
   ]
  },
  {
   "cell_type": "code",
   "execution_count": 64,
   "metadata": {},
   "outputs": [],
   "source": [
    "if (fruit_volumes == None):\n",
    "    data = [str(image_names),str(\n",
    "        result[0][0]), \"--\", \"--\", \"--\", str(fruit_calories_100grams[0])]\n",
    "else:\n",
    "    data = [str(image_names),str(result[0][0]), str(\n",
    "        fruit_volumes), str(fruit_mass), str(fruit_calories), str(fruit _calories_100grams)]"
   ]
  },
  {
   "cell_type": "code",
   "execution_count": 65,
   "metadata": {},
   "outputs": [
    {
     "name": "stdout",
     "output_type": "stream",
     "text": [
      "['Image name', 'Output label', 'Volume (cm^3)', 'Mass (grams)', 'Calories for food item', 'Calories per 100 grams']\n",
      "['application/uploads/1_23.jpg', '1.0', '1028.857898191735', '626.5744599987667', '325.81871919935867', '52']\n"
     ]
    }
   ],
   "source": [
    "print([\"Image name\", \"Output label\",\"Volume (cm^3)\", \"Mass (grams)\", \"Calories for food item\", \"Calories per 100 grams\"])\n",
    "print(data)"
   ]
  },
  {
   "cell_type": "code",
   "execution_count": 57,
   "metadata": {},
   "outputs": [
    {
     "data": {
      "text/plain": [
       "'d:\\\\codes\\\\college\\\\SIH\\\\final\\\\flask'"
      ]
     },
     "execution_count": 57,
     "metadata": {},
     "output_type": "execute_result"
    }
   ],
   "source": []
  },
  {
   "cell_type": "code",
   "execution_count": null,
   "metadata": {},
   "outputs": [],
   "source": []
  }
 ],
 "metadata": {
  "interpreter": {
   "hash": "9f627c4d1ca16970d2d3e15ddf3e767066def827d62e174911848781f6835d5d"
  },
  "kernelspec": {
   "display_name": "Python 3.7.10 ('sih')",
   "language": "python",
   "name": "python3"
  },
  "language_info": {
   "codemirror_mode": {
    "name": "ipython",
    "version": 3
   },
   "file_extension": ".py",
   "mimetype": "text/x-python",
   "name": "python",
   "nbconvert_exporter": "python",
   "pygments_lexer": "ipython3",
   "version": "3.7.10"
  },
  "orig_nbformat": 4
 },
 "nbformat": 4,
 "nbformat_minor": 2
}
